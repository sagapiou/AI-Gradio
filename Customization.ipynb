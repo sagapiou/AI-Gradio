{
 "cells": [
  {
   "cell_type": "code",
   "execution_count": 61,
   "id": "5c74e084-0816-41b5-be17-5a9c43119a84",
   "metadata": {},
   "outputs": [],
   "source": [
    "import gradio as gr"
   ]
  },
  {
   "cell_type": "code",
   "execution_count": 65,
   "id": "5f951269-d31d-403a-b3e1-f9b5f8dcaefb",
   "metadata": {},
   "outputs": [],
   "source": [
    "css = \"\"\"\n",
    ".myclass {\n",
    "    height: 1000px;\n",
    "    background-color:red;\n",
    "    \n",
    "}\n",
    "\"\"\""
   ]
  },
  {
   "cell_type": "code",
   "execution_count": 73,
   "id": "c63a79e1-b4fc-4b60-b90a-a465bd4a1f2f",
   "metadata": {},
   "outputs": [
    {
     "name": "stdout",
     "output_type": "stream",
     "text": [
      "* Running on local URL:  http://127.0.0.1:7879\n",
      "\n",
      "To create a public link, set `share=True` in `launch()`.\n"
     ]
    },
    {
     "data": {
      "text/html": [
       "<div><iframe src=\"http://127.0.0.1:7879/\" width=\"100%\" height=\"500\" allow=\"autoplay; camera; microphone; clipboard-read; clipboard-write;\" frameborder=\"0\" allowfullscreen></iframe></div>"
      ],
      "text/plain": [
       "<IPython.core.display.HTML object>"
      ]
     },
     "metadata": {},
     "output_type": "display_data"
    },
    {
     "data": {
      "text/plain": []
     },
     "execution_count": 73,
     "metadata": {},
     "output_type": "execute_result"
    }
   ],
   "source": [
    "with gr.Blocks(css=css) as demo:\n",
    "    with gr.Tab('Tab One'):\n",
    "        with gr.Row():\n",
    "            with gr.Column(scale=2):\n",
    "                text00 = gr.Text(value=\"Row 0 Column 0\")\n",
    "                text01 = gr.Text(value=\"Row 0 Column 1\")\n",
    "                text02 = gr.Text(value=\"Row 0 Column 2\")\n",
    "            with gr.Column(scale=1):\n",
    "                text10 = gr.Text(value=\"Row 1 Column 0\")\n",
    "                text11 = gr.Text(value=\"Row 1 Column 1\")            \n",
    "        with gr.Row():\n",
    "            gr.Text(value=\"output one\")\n",
    "            gr.Text(value=\"output two\")\n",
    "            text4 = gr.Text(value=\"output four\")\n",
    "        with gr.Row():\n",
    "            gr.Text(value=\"output three\")\n",
    "    with gr.Tab('Tab Two'):\n",
    "        with gr.Row():\n",
    "            gr.Text(value=\"New Tab Output\")\n",
    "    with gr.Tab('Tab Accordion'):\n",
    "        gr.Label(\"Text Label\")\n",
    "        with gr.Accordion(\"Accordion here\", open=False):\n",
    "            gr.Image()\n",
    "    with gr.Tab('Group Buttons'):\n",
    "        with gr.Group():\n",
    "            gr.Button(\"cmd 1\")\n",
    "            gr.Button(\"cmd 2\")\n",
    "            gr.Image()\n",
    "        gr.Image()\n",
    "    with gr.Tab('pixels'):\n",
    "        gr.Image(height=900, width=20)\n",
    "    with gr.Tab('css'):\n",
    "        with gr.Row():\n",
    "            gr.Button('cmd1')\n",
    "        with gr.Row(elem_classes=['myclass']):\n",
    "            gr.Button('cmd2')\n",
    "            gr.Button('cmd3')\n",
    "            gr.Image()\n",
    "demo.launch()"
   ]
  },
  {
   "cell_type": "code",
   "execution_count": null,
   "id": "024f0fb0-c6b8-46f5-96ce-c7c8beb00066",
   "metadata": {},
   "outputs": [],
   "source": []
  },
  {
   "cell_type": "code",
   "execution_count": null,
   "id": "7720a6dc-5a28-4c17-9c44-7bfe476d3efb",
   "metadata": {},
   "outputs": [],
   "source": []
  }
 ],
 "metadata": {
  "kernelspec": {
   "display_name": "Python [conda env:base] *",
   "language": "python",
   "name": "conda-base-py"
  },
  "language_info": {
   "codemirror_mode": {
    "name": "ipython",
    "version": 3
   },
   "file_extension": ".py",
   "mimetype": "text/x-python",
   "name": "python",
   "nbconvert_exporter": "python",
   "pygments_lexer": "ipython3",
   "version": "3.12.3"
  }
 },
 "nbformat": 4,
 "nbformat_minor": 5
}
