{
 "cells": [
  {
   "cell_type": "code",
   "execution_count": 1,
   "id": "be0d5e11-99f7-441d-9eb9-ba38b38d22f1",
   "metadata": {},
   "outputs": [],
   "source": [
    "import gradio as gr"
   ]
  },
  {
   "cell_type": "code",
   "execution_count": 13,
   "id": "1b991cd0-a017-49a6-bbe7-c30b9c4a61b7",
   "metadata": {},
   "outputs": [],
   "source": [
    "def echo(x,y):\n",
    "    return f\"you entered {x} and {y}\""
   ]
  },
  {
   "cell_type": "code",
   "execution_count": 21,
   "id": "58a98d24-29fc-47bf-a5f3-fdc11b703e26",
   "metadata": {},
   "outputs": [
    {
     "name": "stdout",
     "output_type": "stream",
     "text": [
      "* Running on local URL:  http://127.0.0.1:7910\n",
      "\n",
      "To create a public link, set `share=True` in `launch()`.\n"
     ]
    },
    {
     "data": {
      "text/html": [
       "<div><iframe src=\"http://127.0.0.1:7910/\" width=\"100%\" height=\"500\" allow=\"autoplay; camera; microphone; clipboard-read; clipboard-write;\" frameborder=\"0\" allowfullscreen></iframe></div>"
      ],
      "text/plain": [
       "<IPython.core.display.HTML object>"
      ]
     },
     "metadata": {},
     "output_type": "display_data"
    },
    {
     "data": {
      "text/plain": []
     },
     "execution_count": 21,
     "metadata": {},
     "output_type": "execute_result"
    }
   ],
   "source": [
    "iface = gr.Interface(fn=echo,\n",
    "                     inputs=[gr.Text(),gr.Text()],\n",
    "                     outputs=gr.Text(),\n",
    "                     theme = gr.themes.Ocean()                    \n",
    "                    )\n",
    "iface.launch()"
   ]
  },
  {
   "cell_type": "code",
   "execution_count": null,
   "id": "0b94a0fb-bc6e-42dd-9dd1-b88d3ec5a156",
   "metadata": {},
   "outputs": [],
   "source": [
    "# we can create a custom theme with the theme builder\n",
    "gr.themes.builder()"
   ]
  }
 ],
 "metadata": {
  "kernelspec": {
   "display_name": "Python [conda env:base] *",
   "language": "python",
   "name": "conda-base-py"
  },
  "language_info": {
   "codemirror_mode": {
    "name": "ipython",
    "version": 3
   },
   "file_extension": ".py",
   "mimetype": "text/x-python",
   "name": "python",
   "nbconvert_exporter": "python",
   "pygments_lexer": "ipython3",
   "version": "3.12.3"
  }
 },
 "nbformat": 4,
 "nbformat_minor": 5
}
