{
 "cells": [
  {
   "cell_type": "code",
   "execution_count": 1,
   "id": "88d483a1-7a4e-4616-a26c-f8b56d8f6bde",
   "metadata": {},
   "outputs": [],
   "source": [
    "import gradio as gr"
   ]
  },
  {
   "cell_type": "code",
   "execution_count": 7,
   "id": "dad3867b-052e-4c62-a700-73e346ca92b7",
   "metadata": {},
   "outputs": [],
   "source": [
    "def performAddition(x,y):\n",
    "    return x+y"
   ]
  },
  {
   "cell_type": "code",
   "execution_count": 50,
   "id": "f593bbe7-ec84-44a7-905b-6a5c3f29d14b",
   "metadata": {},
   "outputs": [],
   "source": [
    "from PIL import Image \n",
    "\n",
    "def makeBlackAndWhite(imagePath):\n",
    "    img = Image.open(imagePath)\n",
    "    imgBAW = img.convert(\"L\")\n",
    "    return imgBAW, 'Image Converted to Grayscale'"
   ]
  },
  {
   "cell_type": "code",
   "execution_count": 60,
   "id": "29747b54-b338-43ae-98a1-e9607ddecc22",
   "metadata": {},
   "outputs": [
    {
     "name": "stdout",
     "output_type": "stream",
     "text": [
      "* Running on local URL:  http://127.0.0.1:7890\n",
      "\n",
      "To create a public link, set `share=True` in `launch()`.\n"
     ]
    },
    {
     "data": {
      "text/html": [
       "<div><iframe src=\"http://127.0.0.1:7890/\" width=\"100%\" height=\"500\" allow=\"autoplay; camera; microphone; clipboard-read; clipboard-write;\" frameborder=\"0\" allowfullscreen></iframe></div>"
      ],
      "text/plain": [
       "<IPython.core.display.HTML object>"
      ]
     },
     "metadata": {},
     "output_type": "display_data"
    },
    {
     "data": {
      "text/plain": []
     },
     "execution_count": 60,
     "metadata": {},
     "output_type": "execute_result"
    }
   ],
   "source": [
    "with gr.Blocks() as app:\n",
    "    with gr.Tab(\"Change event\"):\n",
    "        with gr.Row():\n",
    "            xSlider = gr.Slider(minimum=0, maximum=100, label='X')\n",
    "            ySlider = gr.Slider(minimum=0, maximum=100, label='Y') \n",
    "        with gr.Row():\n",
    "            result = gr.Text()\n",
    "        x_slider.change(fn=performAddition,inputs=[xSlider,ySlider],outputs=result)        \n",
    "        y_slider.change(fn=performAddition,inputs=[xSlider,ySlider],outputs=result)\n",
    "    with gr.Tab(\"Click event\"):\n",
    "        with gr.Row():\n",
    "            xSlider = gr.Slider(minimum=0, maximum=100, label='X')\n",
    "            ySlider = gr.Slider(minimum=0, maximum=100, label='Y') \n",
    "        with gr.Row():\n",
    "            result = gr.Text()\n",
    "        with gr.Row():\n",
    "            addCmd = gr.Button(\"Add\")\n",
    "        addCmd.click(fn=performAddition, inputs=[xSlider,ySlider], outputs=result)\n",
    "    with gr.Tab(\"Multiple Outputs\"):\n",
    "        with gr.Row():\n",
    "            imgColor = gr.Image(type='filepath')\n",
    "            imageBAW = gr.Image()\n",
    "        with gr.Row():\n",
    "            log = gr.Text()\n",
    "            submit = gr.Button(value=\"Black and White\")\n",
    "        submit.click(fn=makeBlackAndWhite, inputs=imgColor, outputs=[imageBAW, log])\n",
    "app.launch()"
   ]
  },
  {
   "cell_type": "code",
   "execution_count": null,
   "id": "08762dc1-8a5a-40d3-adad-c1c72aa2c16f",
   "metadata": {},
   "outputs": [],
   "source": []
  }
 ],
 "metadata": {
  "kernelspec": {
   "display_name": "Python [conda env:base] *",
   "language": "python",
   "name": "conda-base-py"
  },
  "language_info": {
   "codemirror_mode": {
    "name": "ipython",
    "version": 3
   },
   "file_extension": ".py",
   "mimetype": "text/x-python",
   "name": "python",
   "nbconvert_exporter": "python",
   "pygments_lexer": "ipython3",
   "version": "3.12.3"
  }
 },
 "nbformat": 4,
 "nbformat_minor": 5
}
