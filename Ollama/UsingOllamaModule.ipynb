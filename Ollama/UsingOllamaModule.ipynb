{
 "cells": [
  {
   "cell_type": "code",
   "execution_count": 2,
   "id": "0d96f987-7bd2-42d6-9a4c-c09988b2ffef",
   "metadata": {},
   "outputs": [],
   "source": [
    "# This notebook requires ollama to be installed and running on localhost port 11434\n",
    "# It has been tested on a windows machine running wsl2 and works fine\n",
    "# here we directly use ollama library so no need to pass the api address, header etc\n",
    "import requests\n",
    "import ollama"
   ]
  },
  {
   "cell_type": "code",
   "execution_count": 3,
   "id": "9eaec20b-ca61-4582-8052-c6ce1394c0f0",
   "metadata": {},
   "outputs": [],
   "source": [
    "# used for calling ollama\n",
    "model = \"llama3.2\""
   ]
  },
  {
   "cell_type": "code",
   "execution_count": 4,
   "id": "8ab87eb4-901e-4aa5-9c7f-75c1617209f0",
   "metadata": {},
   "outputs": [],
   "source": [
    "# Message being sent is a dictionary that role is the hey. we can have user and system \n",
    "# so that the ai knows what question to answer and in what wayy\n",
    "message = [\n",
    "    {\"role\": \"user\", \"content\": \"Tell me a story about ancient Greece and the gods\"}\n",
    "]"
   ]
  },
  {
   "cell_type": "code",
   "execution_count": 6,
   "id": "f7f9ea6c-e2b1-4847-a5c4-7037b02a7157",
   "metadata": {},
   "outputs": [
    {
     "name": "stdout",
     "output_type": "stream",
     "text": [
      "It was a balmy summer evening in the city of Athens, and the air was alive with the sweet scent of blooming jasmine. The sun had just set over the Acropolis, casting a warm orange glow over the bustling streets below. In a small temple dedicated to the goddess Athena, a young priestess named Chryse was busy preparing for the upcoming festival of the gods.\n",
      "\n",
      "Chryse was known throughout the city for her exceptional devotion and deep understanding of the ancient traditions. She spent countless hours studying the sacred texts, practicing intricate rituals, and seeking guidance from the whispers of the wind. As she worked, she couldn't help but feel a sense of restlessness, as if something was stirring within her.\n",
      "\n",
      "Just then, there was a knock at the door of the temple. Chryse rose to answer it, expecting it to be one of the other priests or perhaps a messenger from the Oracle of Delphi. But to her surprise, it was Zeus himself standing before her.\n",
      "\n",
      "The King of the Gods wore an air of authority and power that made even the bravest warriors tremble with awe. His piercing blue eyes sparkled with curiosity as he regarded Chryse, his gaze drinking in every detail of her face. She felt a shiver run down her spine as he spoke to her in a voice that rumbled like thunder.\n",
      "\n",
      "\"Chryse, priestess of Athena,\" he began, \"I have come to you with a message from the realms above. A great calamity is brewing on earth, one that threatens the very fabric of our world. The threads of fate are fraying, and I need your help to repair them.\"\n",
      "\n",
      "Without another word, Zeus handed Chryse a small, intricately carved wooden box. Inside, she found a collection of rare herbs, a vial of sparkling dew, and a scroll written in the language of the gods.\n",
      "\n",
      "\"The task ahead will require great courage and cunning,\" Zeus warned. \"But I have faith in you, Chryse. You are one of the few who can hear the whispers of the gods and understand the ancient mysteries.\"\n",
      "\n",
      "With those words, Zeus vanished as suddenly as he had appeared, leaving Chryse to ponder the weight of his message. She knew that she was about to embark on a perilous journey, one that would take her across mountains, rivers, and deserts, all in search of answers and justice.\n",
      "\n",
      "As she held the wooden box close to her heart, Chryse felt the stirrings within her grow stronger, as if the gods themselves were urging her forward. With a deep breath, she set out on the long and winding path ahead, ready to face whatever lay in store for her.\n",
      "\n",
      "Over the next few days, Chryse traveled through treacherous landscapes, meeting an array of characters who would aid or hinder her progress. She encountered a mischievous satyr named Silenus, who taught her the secrets of the forest; a stern but fair nymph named Echo, who guided her across scorching deserts; and even a mysterious mortal named Alcestis, who shared with her the whispers of the earth.\n",
      "\n",
      "As they journeyed together, Chryse discovered that the calamity Zeus spoke of was none other than a great imbalance in the natural world. A dark force had begun to corrupt the very essence of creation, threatening to unravel the fabric of reality itself.\n",
      "\n",
      "Determined to right this wrong, Chryse and her companions pressed on, facing countless challenges and overcoming seemingly insurmountable obstacles. Along the way, they encountered other gods and goddesses who joined their quest: Apollo, with his radiant music; Artemis, with her ethereal beauty; and even Ares, with his fierce warrior spirit.\n",
      "\n",
      "Together, the heroes battled dark creatures and overcame treacherous trials, all in the name of restoring balance to the world. And as they journeyed deeper into the heart of the darkness, Chryse began to realize that she was not just a priestess, but a vessel for the gods themselves.\n",
      "\n",
      "Finally, after many moons and countless miles, they reached the Heart of the World: a place where the very essence of creation pulsed with ancient power. There, in the midst of this primordial energy, Chryse discovered the source of the imbalance – a malevolent force that had been feeding on the darkness within human hearts.\n",
      "\n",
      "With the help of her companions and the aid of the gods, Chryse bravely confronted the dark force, using all the knowledge and wisdom she had gained on her journey. Slowly but surely, the threads of fate began to repair themselves, and the world began to heal.\n",
      "\n",
      "When they returned to Athens, Zeus himself awaited them, his eyes shining with pride and gratitude. \"Well done, Chryse,\" he said, as he handed her a small crystal pendant adorned with the symbol of Athena. \"You have proven yourself worthy of this gift: the power to hear the whispers of the gods and bring balance to a world torn apart.\"\n",
      "\n",
      "From that day on, Chryse wore the pendant around her neck, a reminder of her incredible journey and the lessons she had learned from the gods themselves. And though she continued to serve as priestess of Athena, she knew that she was not alone – for in the hearts of all those who listened, the whispers of the gods would always be there, guiding them towards a brighter future.\n"
     ]
    }
   ],
   "source": [
    "# an http request with the payload \n",
    "response = ollama.chat(model=model, messages=message)\n",
    "print(response['message']['content'])"
   ]
  },
  {
   "cell_type": "code",
   "execution_count": null,
   "id": "f8c95e32-a68f-4123-b9ce-434d649abab1",
   "metadata": {},
   "outputs": [],
   "source": []
  }
 ],
 "metadata": {
  "kernelspec": {
   "display_name": "Python 3 (ipykernel)",
   "language": "python",
   "name": "python3"
  },
  "language_info": {
   "codemirror_mode": {
    "name": "ipython",
    "version": 3
   },
   "file_extension": ".py",
   "mimetype": "text/x-python",
   "name": "python",
   "nbconvert_exporter": "python",
   "pygments_lexer": "ipython3",
   "version": "3.11.11"
  }
 },
 "nbformat": 4,
 "nbformat_minor": 5
}
