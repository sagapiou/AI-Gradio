{
 "cells": [
  {
   "cell_type": "code",
   "execution_count": 67,
   "id": "d5163e27-5d3d-4448-bab4-ee6a81aef117",
   "metadata": {},
   "outputs": [],
   "source": [
    "# I will be using the ollama library directly to summarize a random web page\n",
    "# using beautifulSoup I will remove all the tags and get the raw text and pass that to the Laama3.2 model\n",
    "import requests\n",
    "from bs4 import BeautifulSoup\n",
    "from IPython.display import Markdown, display\n",
    "import ollama\n",
    "import gradio as gr"
   ]
  },
  {
   "cell_type": "code",
   "execution_count": 68,
   "id": "162a5a10-8d10-42a7-9ac7-d8d2abe39405",
   "metadata": {},
   "outputs": [],
   "source": [
    "# A class to represent a Webpage\n",
    "\n",
    "class Website:\n",
    "    url: str\n",
    "    title: str\n",
    "    text: str\n",
    "\n",
    "    def __init__(self, url):\n",
    "        self.url = url\n",
    "        response = requests.get(url)\n",
    "        self.body = response.content\n",
    "        soup = BeautifulSoup(self.body, 'html.parser')\n",
    "        self.title = soup.title.string if soup.title else \"No title found\"\n",
    "        for irrelevant in soup.body([\"script\", \"style\", \"img\", \"input\"]):\n",
    "            irrelevant.decompose()\n",
    "        self.text = soup.body.get_text(separator=\"\\n\", strip=True)\n",
    "\n",
    "    def get_contents(self):\n",
    "        return f\"Webpage Title:\\n{self.title}\\nWebpage Contents:\\n{self.text}\\n\\n\""
   ]
  },
  {
   "cell_type": "code",
   "execution_count": 69,
   "id": "58ea47ff-514d-4eb3-a28a-0ea9e6fdcb7c",
   "metadata": {},
   "outputs": [],
   "source": [
    "systemPrompt = \"You are an assistant that analyzes the contents of several relevant pages from a company website \\\n",
    "and creates a short humorous, entertaining, jokey summaries about the company for prospective customers, investors and recruits. Respond in markdown.\\\n",
    "Include details of company culture, customers and careers/jobs if you have the information.\"\n",
    "\n",
    "# Or uncomment the lines below for a more humorous brochure - this demonstrates how easy it is to incorporate 'tone':\n",
    "\n",
    "# systemPrompt = \"You are an assistant that analyzes the contents of several relevant pages from a company website \\\n",
    "# and creates a short brochure about the company for prospective customers, investors and recruits. Respond in markdown.\\\n",
    "# Include details of company culture, customers and careers/jobs if you have the information.\""
   ]
  },
  {
   "cell_type": "code",
   "execution_count": 70,
   "id": "e6148f18-7a49-4549-9e8c-7d3aeb39f4ba",
   "metadata": {},
   "outputs": [],
   "source": [
    "# A function that writes a User Prompt baset on the url being passed\n",
    "def userPrompt(company,url):\n",
    "    webSite = Website(url)\n",
    "    user_prompt = f\"You are looking at a website titled {webSite.title}\"\n",
    "    user_prompt += f\"The contents of the websiteare for the company : {company}; \\\n",
    "please provide a short summary of this company in markdown. \\\n",
    "If there are any news , then summarize them as well.\\n\\n\"\n",
    "    user_prompt += webSite.text\n",
    "    return user_prompt"
   ]
  },
  {
   "cell_type": "code",
   "execution_count": 71,
   "id": "1d3f239c-300c-4b29-8b34-0295e782585a",
   "metadata": {},
   "outputs": [],
   "source": [
    "def streamOllama(company,url,model):\n",
    "    stream = ollama.chat(\n",
    "        model=model, \n",
    "        messages=[\n",
    "            {\"role\": \"system\", \"content\": systemPrompt},\n",
    "            {\"role\": \"user\", \"content\": userPrompt(company,url)}\n",
    "      ],\n",
    "        stream=True\n",
    "    )\n",
    "    \n",
    "    result = \"\"\n",
    "    for chunk in stream:\n",
    "        result += chunk['message']['content'] or \"\"\n",
    "        yield result\n",
    "    "
   ]
  },
  {
   "cell_type": "code",
   "execution_count": 72,
   "id": "19c8b968-445c-4f47-8792-d45064bf2ee1",
   "metadata": {},
   "outputs": [],
   "source": [
    "def stream_brochure(company_name, url, model):\n",
    "    if model==\"llama3.2\" or model==\"llava\" or model==\"mistral\":\n",
    "        result = streamOllama(company_name,url, model)\n",
    "    else:\n",
    "        raise ValueError(\"Unknown model\")\n",
    "    yield from result"
   ]
  },
  {
   "cell_type": "code",
   "execution_count": 73,
   "id": "bcf6930a-c0db-4ab8-86fb-9cb56f58effd",
   "metadata": {},
   "outputs": [],
   "source": [
    "#runAndDisplay()"
   ]
  },
  {
   "cell_type": "code",
   "execution_count": 74,
   "id": "6f6190af-2fcf-4c57-b176-2759ee03883a",
   "metadata": {},
   "outputs": [],
   "source": [
    "# gradio time"
   ]
  },
  {
   "cell_type": "code",
   "execution_count": 75,
   "id": "a66b763e-5c10-457b-9da0-74363d834219",
   "metadata": {},
   "outputs": [],
   "source": [
    "# dark mode for gradio\n",
    "force_dark_mode = \"\"\"\n",
    "function refresh() {\n",
    "    const url = new URL(window.location);\n",
    "    if (url.searchParams.get('__theme') !== 'dark') {\n",
    "        url.searchParams.set('__theme', 'dark');\n",
    "        window.location.href = url.href;\n",
    "    }\n",
    "}\n",
    "\"\"\"\n",
    "# inside the interface: js=force_dark_mode\n"
   ]
  },
  {
   "cell_type": "code",
   "execution_count": 76,
   "id": "4e8e2984-1978-4ce9-bee7-95f916eac4fa",
   "metadata": {},
   "outputs": [],
   "source": [
    "view = gr.Interface(\n",
    "    fn=stream_brochure,\n",
    "    inputs=[\n",
    "        gr.Textbox(label=\"Company name:\"),\n",
    "        gr.Textbox(label=\"Landing page URL including http:// or https://\"),\n",
    "        gr.Dropdown([\"llama3.2\", \"llava\", \"mistral\"], label=\"Select model\")],\n",
    "    outputs=[gr.Markdown(label=\"Brochure:\")],\n",
    "    flagging_mode=\"never\"\n",
    ")\n",
    "view.launch()"
   ]
  },
  {
   "cell_type": "code",
   "execution_count": null,
   "id": "ef6b363c-8830-45fa-9d14-1a41ec7016bc",
   "metadata": {},
   "outputs": [],
   "source": []
  }
 ],
 "metadata": {
  "kernelspec": {
   "display_name": "Python 3 (ipykernel)",
   "language": "python",
   "name": "python3"
  },
  "language_info": {
   "codemirror_mode": {
    "name": "ipython",
    "version": 3
   },
   "file_extension": ".py",
   "mimetype": "text/x-python",
   "name": "python",
   "nbconvert_exporter": "python",
   "pygments_lexer": "ipython3",
   "version": "3.11.11"
  }
 },
 "nbformat": 4,
 "nbformat_minor": 5
}
