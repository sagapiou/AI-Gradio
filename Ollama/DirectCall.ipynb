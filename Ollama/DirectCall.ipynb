{
 "cells": [
  {
   "cell_type": "code",
   "execution_count": 19,
   "id": "0d96f987-7bd2-42d6-9a4c-c09988b2ffef",
   "metadata": {},
   "outputs": [],
   "source": [
    "# This notebook requires ollama to be installed and running on localhost port 11434\n",
    "# It has been tested on a windows machine running wsl2 and works fine\n",
    "import requests"
   ]
  },
  {
   "cell_type": "code",
   "execution_count": 15,
   "id": "9eaec20b-ca61-4582-8052-c6ce1394c0f0",
   "metadata": {},
   "outputs": [],
   "source": [
    "# used for calling ollama\n",
    "localOllama = \"http://localhost:11434/api/chat\"\n",
    "header = {\"Content-Type\": \"application/json\"}\n",
    "model = \"llama3.2\""
   ]
  },
  {
   "cell_type": "code",
   "execution_count": 16,
   "id": "8ab87eb4-901e-4aa5-9c7f-75c1617209f0",
   "metadata": {},
   "outputs": [],
   "source": [
    "# Message being sent is a dictionary that role is the hey. we can have user and system \n",
    "# so that the ai knows what question to answer and in what wayy\n",
    "\n",
    "message = [\n",
    "    {\"role\": \"user\", \"content\": \"Tell me a story about ancient Greece and the gods\"}\n",
    "]"
   ]
  },
  {
   "cell_type": "code",
   "execution_count": 17,
   "id": "803d507d-2ae0-4843-bcaf-fc89ce66dbe0",
   "metadata": {},
   "outputs": [],
   "source": [
    "# payload being passed to ollama. Removed stream so that we get the actual answer in one go\n",
    "payload = {\"model\": model, \"messages\": message, \"stream\": False}"
   ]
  },
  {
   "cell_type": "code",
   "execution_count": 18,
   "id": "f7f9ea6c-e2b1-4847-a5c4-7037b02a7157",
   "metadata": {},
   "outputs": [
    {
     "name": "stdout",
     "output_type": "stream",
     "text": [
      "It was a warm summer evening in the city of Athens, nestled between the Acropolis and the sparkling Aegean Sea. The air was filled with the sweet scent of blooming jasmine and the sound of laughter and music drifted from the homes of the people.\n",
      "\n",
      "In a small, intricately carved temple dedicated to the goddess Artemis, a young priestess named Chryse watched over the sacred fire that burned brightly in the heart of the altar. She had spent countless hours studying the ancient texts and listening to the stories of the gods, and she was determined to prove herself worthy of serving as one of their chosen messengers.\n",
      "\n",
      "As the sun dipped below the horizon, casting a golden glow over the city, Chryse felt a sudden jolt of energy emanate from the fire. She knew that it was a sign, a message from the gods themselves that something extraordinary was about to happen.\n",
      "\n",
      "Without hesitation, Chryse grabbed her staff and set out into the night, following the path that led to the palace of Zeus himself. The king of the gods was known for his capricious nature, and few dared to approach him without great trepidation.\n",
      "\n",
      "As she climbed the winding staircase that led to Zeus' throne room, Chryse could feel the air grow thick with anticipation. She knew that she was about to face the greatest challenge of her life, but she was also driven by a burning desire to prove herself worthy of serving as one of the gods' most trusted messengers.\n",
      "\n",
      "Finally, she reached the grand throne room and approached the throne where Zeus sat in majesty, his piercing blue eyes gazing out over the city below. Chryse bowed deeply before him, her voice trembling with reverence as she spoke.\n",
      "\n",
      "\"Greetings, great King Zeus,\" she said. \"I have come to serve you and your people, to carry your messages and bring your will to those who dwell beneath the stars.\"\n",
      "\n",
      "Zeus' eyes narrowed, his gaze piercing through Chryse like a hot knife through butter. But then, to her surprise, he smiled.\n",
      "\n",
      "\"Rise, little priestess,\" he said. \"I have a task for you. A mortal has come to me with a plea for aid, one that requires great cunning and bravery.\"\n",
      "\n",
      "Chryse nodded eagerly, knowing that this was the moment she had been waiting for.\n",
      "\n",
      "\"What is it, great King?\" she asked.\n",
      "\n",
      "\"Her name is Theodora,\" Zeus replied, his voice dripping with sorrow. \"She is a young woman from the city of Sparta, one who possesses a magical artifact known as the Starheart. It is said that this artifact holds the power to heal any wound, to bring light to even the darkest darkness.\"\n",
      "\n",
      "Chryse's eyes widened in awe as Zeus continued.\n",
      "\n",
      "\"But there is another, one who seeks to claim the Starheart for his own nefarious purposes. His name is Hades, and he will stop at nothing to possess it. I charge you with this quest, little priestess: find Theodora and bring her safely back to me, that I may use the power of the Starheart to heal the world from a great darkness that threatens to consume us all.\"\n",
      "\n",
      "Without hesitation, Chryse accepted the challenge, knowing that this was an opportunity she could not miss. With Zeus' blessing, she set out on her perilous journey, armed with nothing but her wit, courage, and determination.\n",
      "\n",
      "As she walked into the night, the stars shining brightly above her like diamonds in the sky, Chryse knew that this was just the beginning of a grand adventure, one that would take her to the very limits of human endurance and beyond.\n"
     ]
    }
   ],
   "source": [
    "# an http request with the payload \n",
    "response = requests.post(localOllama, json=payload, headers=header)\n",
    "print(response.json()['message']['content'])"
   ]
  },
  {
   "cell_type": "code",
   "execution_count": null,
   "id": "f8c95e32-a68f-4123-b9ce-434d649abab1",
   "metadata": {},
   "outputs": [],
   "source": []
  }
 ],
 "metadata": {
  "kernelspec": {
   "display_name": "Python 3 (ipykernel)",
   "language": "python",
   "name": "python3"
  },
  "language_info": {
   "codemirror_mode": {
    "name": "ipython",
    "version": 3
   },
   "file_extension": ".py",
   "mimetype": "text/x-python",
   "name": "python",
   "nbconvert_exporter": "python",
   "pygments_lexer": "ipython3",
   "version": "3.11.11"
  }
 },
 "nbformat": 4,
 "nbformat_minor": 5
}
