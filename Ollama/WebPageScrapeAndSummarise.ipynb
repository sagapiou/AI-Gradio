{
 "cells": [
  {
   "cell_type": "code",
   "execution_count": 15,
   "id": "d5163e27-5d3d-4448-bab4-ee6a81aef117",
   "metadata": {},
   "outputs": [],
   "source": [
    "# I will be using the ollama library directly to summarize a random web page\n",
    "# using beautifulSoup I will remove all the tags and get the raw text and pass that to the Laama3.2 model\n",
    "import requests\n",
    "from bs4 import BeautifulSoup\n",
    "from IPython.display import Markdown, display\n",
    "import ollama"
   ]
  },
  {
   "cell_type": "code",
   "execution_count": 16,
   "id": "ce806553-3b45-4799-8bc1-2f129ac2052c",
   "metadata": {},
   "outputs": [],
   "source": [
    "# ollama model and Website from coinmarketcap to summarise\n",
    "testSite = \"https://jjmilt.substack.com/p/wtf-happened-in-1971-edward-snowden\"\n",
    "model = \"llama3.2\""
   ]
  },
  {
   "cell_type": "code",
   "execution_count": 17,
   "id": "162a5a10-8d10-42a7-9ac7-d8d2abe39405",
   "metadata": {},
   "outputs": [],
   "source": [
    "# A function to receive a url and return the text\n",
    "def webSite(url):\n",
    "    webPage = requests.get(url)\n",
    "    soup = BeautifulSoup(webPage.content, 'html.parser')\n",
    "    title = soup.title.string if soup.title else \"No title\"\n",
    "    for irrelevant in soup.body([\"script\", \"style\", \"img\", \"input\"]):\n",
    "        irrelevant.decompose()\n",
    "    return title, soup.body.get_text(separator=\"\\n\", strip=True)"
   ]
  },
  {
   "cell_type": "code",
   "execution_count": 18,
   "id": "58ea47ff-514d-4eb3-a28a-0ea9e6fdcb7c",
   "metadata": {},
   "outputs": [],
   "source": [
    "# Define our system prompt\"\n",
    "systemPrompt = \"You are an assistant that analyzes the contents of stock and crypto websites \\\n",
    "and provides a short summary, ignoring text that might be navigation related. \\\n",
    "Respond in markdown.\""
   ]
  },
  {
   "cell_type": "code",
   "execution_count": 19,
   "id": "e6148f18-7a49-4549-9e8c-7d3aeb39f4ba",
   "metadata": {},
   "outputs": [],
   "source": [
    "# A function that writes a User Prompt baset on the url being passed\n",
    "def userPrompt(url):\n",
    "    title, text = webSite(url)\n",
    "    user_prompt = f\"You are looking at a website titled {title}\"\n",
    "    user_prompt += \"The contents of this website is as follows; \\\n",
    "please provide a short summary of this website in markdown. \\\n",
    "If there are any news , then summarize them as well.\\n\\n\"\n",
    "    user_prompt += text\n",
    "    return user_prompt"
   ]
  },
  {
   "cell_type": "code",
   "execution_count": 20,
   "id": "47554ed8-64a8-4434-bc66-1fc2412d6a73",
   "metadata": {},
   "outputs": [],
   "source": [
    "# function for constracting the final message being passe with both the system and user content\n",
    "def messageSummarise(url):\n",
    "    return [\n",
    "        {\"role\": \"system\", \"content\": systemPrompt},\n",
    "        {\"role\": \"user\", \"content\": userPrompt(url)}\n",
    "    ]"
   ]
  },
  {
   "cell_type": "code",
   "execution_count": 21,
   "id": "1d3f239c-300c-4b29-8b34-0295e782585a",
   "metadata": {},
   "outputs": [],
   "source": [
    "# sending our message to ollama. If there is no web page it will parse the testWebSite\n",
    "def runAndDisplay(url=testSite):\n",
    "    response = ollama.chat(model=model,messages=messageSummarise(testSite),stream=False)\n",
    "    return display(Markdown(response['message']['content']))"
   ]
  },
  {
   "cell_type": "code",
   "execution_count": 22,
   "id": "bcf6930a-c0db-4ab8-86fb-9cb56f58effd",
   "metadata": {},
   "outputs": [
    {
     "data": {
      "text/markdown": [
       "The article \"What Happened in 1971?\" by Jon Miltimore discusses the shift from a gold-backed currency to a fiat currency system, and how this change has had significant impacts on economics and society.\n",
       "\n",
       "In 1971, President Nixon's decision to temporarily pause gold redemption led to the US abandoning the gold standard and adopting a fiat currency system. This meant that the value of the dollar was no longer tied to the value of gold, but rather was determined by supply and demand in the foreign exchange market.\n",
       "\n",
       "The article explains how this change allowed the government to print more money and finance its spending programs without worrying about depleting its gold reserves. However, it also led to inflation, which is a tax on the purchasing power of citizens.\n",
       "\n",
       "The author uses several examples to illustrate the effects of fiat currency on society, including:\n",
       "\n",
       "* The growth of wealth inequality: The top 1% of earners now hold a record percentage of all wealth in the US.\n",
       "* Inflation: The value of money has decreased over time, as the government prints more money and increases demand for goods and services.\n",
       "* Economic instability: The lack of gold backing can lead to economic instability, as seen during times of high inflation or currency devaluation.\n",
       "\n",
       "The author also notes that economists Murray Rothbard and Thorsten Polleit have warned about the dangers of fiat currency, citing examples such as the Great Depression and the hyperinflation in Zimbabwe.\n",
       "\n",
       "In conclusion, the article argues that understanding the history of the US currency system is essential to grasping the current economic situation. By examining what happened in 1971, we can better understand how our monetary system has changed over time and how these changes have impacted society.\n",
       "\n",
       "Some key points from the article include:\n",
       "\n",
       "* The gold standard was abandoned in 1971, leading to the adoption of a fiat currency system.\n",
       "* Fiat currency allows the government to print more money without worrying about depleting its gold reserves.\n",
       "* Inflation is a tax on the purchasing power of citizens, and can lead to wealth inequality and economic instability.\n",
       "* Economists Murray Rothbard and Thorsten Polleit have warned about the dangers of fiat currency.\n",
       "\n",
       "Overall, the article provides a comprehensive overview of the history of US currency systems and their impact on society."
      ],
      "text/plain": [
       "<IPython.core.display.Markdown object>"
      ]
     },
     "metadata": {},
     "output_type": "display_data"
    }
   ],
   "source": [
    "runAndDisplay()"
   ]
  },
  {
   "cell_type": "code",
   "execution_count": null,
   "id": "6f6190af-2fcf-4c57-b176-2759ee03883a",
   "metadata": {},
   "outputs": [],
   "source": []
  }
 ],
 "metadata": {
  "kernelspec": {
   "display_name": "Python 3 (ipykernel)",
   "language": "python",
   "name": "python3"
  },
  "language_info": {
   "codemirror_mode": {
    "name": "ipython",
    "version": 3
   },
   "file_extension": ".py",
   "mimetype": "text/x-python",
   "name": "python",
   "nbconvert_exporter": "python",
   "pygments_lexer": "ipython3",
   "version": "3.11.11"
  }
 },
 "nbformat": 4,
 "nbformat_minor": 5
}
