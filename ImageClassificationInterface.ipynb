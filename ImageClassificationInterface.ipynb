{
 "cells": [
  {
   "cell_type": "code",
   "execution_count": 15,
   "id": "648c9061-7f61-4cb3-b9e7-ef41cd3877ab",
   "metadata": {},
   "outputs": [],
   "source": [
    "import gradio as gr"
   ]
  },
  {
   "cell_type": "code",
   "execution_count": 17,
   "id": "4e42c8d1-f503-4603-a154-52cf6765fd15",
   "metadata": {},
   "outputs": [],
   "source": [
    "# will be using the manual way for downloading and querying a pretrained image (will not use pipeline for this example)\n",
    "# this model is around 150 MB\n",
    "## pip install transformers, torch\n",
    "from transformers import AutoImageProcessor, ResNetForImageClassification\n",
    "import torch\n",
    "processor = AutoImageProcessor.from_pretrained(\"microsoft/resnet-50\")\n",
    "model = ResNetForImageClassification.from_pretrained(\"microsoft/resnet-50\")"
   ]
  },
  {
   "cell_type": "code",
   "execution_count": 23,
   "id": "a0701d74-6729-4e4b-b555-9350d8312620",
   "metadata": {},
   "outputs": [],
   "source": [
    "def classifyImg(imagePath):\n",
    "    inputs = processor(imagePath, return_tensors='pt')['pixel_values']\n",
    "    logits = model(inputs).logits\n",
    "    predicted_label = logits.argmax(-1).item()\n",
    "    return model.config.id2label[predicted_label]"
   ]
  },
  {
   "cell_type": "code",
   "execution_count": 25,
   "id": "ff468734-1174-4e9a-978c-d743799c22a5",
   "metadata": {},
   "outputs": [
    {
     "name": "stdout",
     "output_type": "stream",
     "text": [
      "* Running on local URL:  http://127.0.0.1:7894\n",
      "\n",
      "To create a public link, set `share=True` in `launch()`.\n"
     ]
    },
    {
     "data": {
      "text/html": [
       "<div><iframe src=\"http://127.0.0.1:7894/\" width=\"100%\" height=\"500\" allow=\"autoplay; camera; microphone; clipboard-read; clipboard-write;\" frameborder=\"0\" allowfullscreen></iframe></div>"
      ],
      "text/plain": [
       "<IPython.core.display.HTML object>"
      ]
     },
     "metadata": {},
     "output_type": "display_data"
    },
    {
     "data": {
      "text/plain": []
     },
     "execution_count": 25,
     "metadata": {},
     "output_type": "execute_result"
    }
   ],
   "source": [
    "iface = gr.Interface(fn=classifyImg, \n",
    "                     inputs=gr.Image(), \n",
    "                     outputs=gr.Label(),\n",
    "                     title='Resnet-50 Classifier', \n",
    "                     description='Upload any image and the classifier will classify it!'\n",
    "                    )\n",
    "iface.launch()"
   ]
  },
  {
   "cell_type": "code",
   "execution_count": null,
   "id": "67560767-6086-4e9b-b127-7a440080d336",
   "metadata": {},
   "outputs": [],
   "source": []
  }
 ],
 "metadata": {
  "kernelspec": {
   "display_name": "Python [conda env:base] *",
   "language": "python",
   "name": "conda-base-py"
  },
  "language_info": {
   "codemirror_mode": {
    "name": "ipython",
    "version": 3
   },
   "file_extension": ".py",
   "mimetype": "text/x-python",
   "name": "python",
   "nbconvert_exporter": "python",
   "pygments_lexer": "ipython3",
   "version": "3.12.3"
  }
 },
 "nbformat": 4,
 "nbformat_minor": 5
}
