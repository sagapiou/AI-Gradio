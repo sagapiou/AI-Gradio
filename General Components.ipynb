{
 "cells": [
  {
   "cell_type": "code",
   "execution_count": 7,
   "id": "5bdd468b-9494-485b-9eed-bb4feb4af1cf",
   "metadata": {},
   "outputs": [],
   "source": [
    "import gradio as gr"
   ]
  },
  {
   "cell_type": "code",
   "execution_count": 3,
   "id": "c1ec06fc-0761-49a6-9b68-4842f7127435",
   "metadata": {},
   "outputs": [
    {
     "data": {
      "text/plain": [
       "'5.11.0'"
      ]
     },
     "execution_count": 3,
     "metadata": {},
     "output_type": "execute_result"
    }
   ],
   "source": [
    "gradio.__version__"
   ]
  },
  {
   "cell_type": "code",
   "execution_count": 5,
   "id": "72a691a5-e659-4d8a-9a3a-2f26302e7691",
   "metadata": {},
   "outputs": [],
   "source": [
    "def add_numbers(x,y):\n",
    "    return x+y"
   ]
  },
  {
   "cell_type": "code",
   "execution_count": 13,
   "id": "c18543fd-f9e4-4921-ba51-8bed6184f1d0",
   "metadata": {},
   "outputs": [],
   "source": [
    "iface = gr.Interface(fn=add_numbers,\n",
    "                     inputs=[gr.Number(10), gr.Number()], \n",
    "                     outputs=gr.Number())\n",
    "iface.launch()"
   ]
  },
  {
   "cell_type": "code",
   "execution_count": 15,
   "id": "7bcc1667-1ab3-4fd2-90a9-418e11e6758e",
   "metadata": {},
   "outputs": [],
   "source": [
    "def reverse_text(input_text):\n",
    "    return input_text[::-1]"
   ]
  },
  {
   "cell_type": "code",
   "execution_count": 17,
   "id": "0e0c3b61-a88d-489a-90c2-f35b14fd5f7e",
   "metadata": {},
   "outputs": [
    {
     "data": {
      "text/plain": [
       "'sorvatS'"
      ]
     },
     "execution_count": 17,
     "metadata": {},
     "output_type": "execute_result"
    }
   ],
   "source": [
    "reverse_text(\"Stavros\")"
   ]
  },
  {
   "cell_type": "code",
   "execution_count": null,
   "id": "8e9b2291-012e-4485-a788-58ea7d34c404",
   "metadata": {},
   "outputs": [],
   "source": [
    "iface = gr.Interface(fn=reverse_text, inputs=gr.Text(), outputs=gr.Text())\n",
    "iface.launch()"
   ]
  },
  {
   "cell_type": "code",
   "execution_count": 22,
   "id": "6cc821a6-2df7-49f0-8aa3-d57cb3d1d022",
   "metadata": {},
   "outputs": [],
   "source": [
    "def slider_example(value):\n",
    "    return f\"Slider value is : {value}\""
   ]
  },
  {
   "cell_type": "code",
   "execution_count": 24,
   "id": "8599c670-d88e-49e7-b6be-27085d968e9e",
   "metadata": {},
   "outputs": [
    {
     "data": {
      "text/plain": [
       "'Slider value is : 10'"
      ]
     },
     "execution_count": 24,
     "metadata": {},
     "output_type": "execute_result"
    }
   ],
   "source": [
    "slider_example(10)"
   ]
  },
  {
   "cell_type": "code",
   "execution_count": 39,
   "id": "a07a03b8-2ec9-4cc8-bfde-73cb97353013",
   "metadata": {},
   "outputs": [
    {
     "name": "stdout",
     "output_type": "stream",
     "text": [
      "* Running on local URL:  http://127.0.0.1:7865\n",
      "\n",
      "To create a public link, set `share=True` in `launch()`.\n"
     ]
    },
    {
     "data": {
      "text/html": [
       "<div><iframe src=\"http://127.0.0.1:7865/\" width=\"100%\" height=\"500\" allow=\"autoplay; camera; microphone; clipboard-read; clipboard-write;\" frameborder=\"0\" allowfullscreen></iframe></div>"
      ],
      "text/plain": [
       "<IPython.core.display.HTML object>"
      ]
     },
     "metadata": {},
     "output_type": "display_data"
    },
    {
     "data": {
      "text/plain": []
     },
     "execution_count": 39,
     "metadata": {},
     "output_type": "execute_result"
    }
   ],
   "source": [
    "iface = gr.Interface(fn=slider_example, inputs=gr.Slider(minimum=0,maximum=100, step=2), outputs=gr.Text())\n",
    "iface.launch()"
   ]
  },
  {
   "cell_type": "code",
   "execution_count": 41,
   "id": "e1747099-ca77-4258-8c12-835bfc02bc83",
   "metadata": {},
   "outputs": [],
   "source": [
    "def dd_example(value):\n",
    "    return f\"Current value is : {value}\""
   ]
  },
  {
   "cell_type": "code",
   "execution_count": 43,
   "id": "6ac7e850-6d63-4cbc-a063-d7c6111c10b7",
   "metadata": {},
   "outputs": [
    {
     "name": "stdout",
     "output_type": "stream",
     "text": [
      "* Running on local URL:  http://127.0.0.1:7866\n",
      "\n",
      "To create a public link, set `share=True` in `launch()`.\n"
     ]
    },
    {
     "data": {
      "text/html": [
       "<div><iframe src=\"http://127.0.0.1:7866/\" width=\"100%\" height=\"500\" allow=\"autoplay; camera; microphone; clipboard-read; clipboard-write;\" frameborder=\"0\" allowfullscreen></iframe></div>"
      ],
      "text/plain": [
       "<IPython.core.display.HTML object>"
      ]
     },
     "metadata": {},
     "output_type": "display_data"
    },
    {
     "data": {
      "text/plain": []
     },
     "execution_count": 43,
     "metadata": {},
     "output_type": "execute_result"
    }
   ],
   "source": [
    "options=['A', 'B', 'C']\n",
    "iface = gr.Interface(fn=dd_example, inputs=gr.Dropdown(choices=options), outputs=gr.Text())\n",
    "iface.launch()"
   ]
  },
  {
   "cell_type": "code",
   "execution_count": 65,
   "id": "aa1a9588-7eb7-442d-9fa9-8524c55da50e",
   "metadata": {},
   "outputs": [],
   "source": [
    "#help(gr.Dropdown)"
   ]
  },
  {
   "cell_type": "code",
   "execution_count": 71,
   "id": "1163d96e-afa5-45f8-8937-e534eb3b38c2",
   "metadata": {},
   "outputs": [],
   "source": [
    "from PIL import Image\n",
    "\n",
    "def convert(image_path):\n",
    "    \"\"\"\n",
    "    Converts an image to grayscale and saves it.\n",
    "\n",
    "    Args:\n",
    "        image_path (str): Path to the input image file.\n",
    "        output_path (str): Path where the grayscale image will be saved.\n",
    "    \"\"\"\n",
    "    # Open an image file\n",
    "    img = Image.open(image_path)\n",
    "\n",
    "    # Convert the image to grayscale\n",
    "    return  img.convert('L')"
   ]
  },
  {
   "cell_type": "code",
   "execution_count": 73,
   "id": "7753a202-18f2-4153-83f8-0df092c0442d",
   "metadata": {},
   "outputs": [],
   "source": [
    "#convert('../images/SN.png', '../images/')"
   ]
  },
  {
   "cell_type": "code",
   "execution_count": 81,
   "id": "9894eda9-232b-4e62-80db-e39095b3218d",
   "metadata": {},
   "outputs": [
    {
     "name": "stdout",
     "output_type": "stream",
     "text": [
      "* Running on local URL:  http://127.0.0.1:7870\n",
      "\n",
      "To create a public link, set `share=True` in `launch()`.\n"
     ]
    },
    {
     "data": {
      "text/html": [
       "<div><iframe src=\"http://127.0.0.1:7870/\" width=\"100%\" height=\"500\" allow=\"autoplay; camera; microphone; clipboard-read; clipboard-write;\" frameborder=\"0\" allowfullscreen></iframe></div>"
      ],
      "text/plain": [
       "<IPython.core.display.HTML object>"
      ]
     },
     "metadata": {},
     "output_type": "display_data"
    },
    {
     "data": {
      "text/plain": []
     },
     "execution_count": 81,
     "metadata": {},
     "output_type": "execute_result"
    }
   ],
   "source": [
    "iface = gr.Interface(fn=convert, inputs=gr.Image(type='filepath'), outputs=gr.Image())\n",
    "iface.launch()"
   ]
  },
  {
   "cell_type": "code",
   "execution_count": 83,
   "id": "66f19d06-aede-4698-a5aa-f7e0a61dcb4e",
   "metadata": {},
   "outputs": [
    {
     "name": "stdout",
     "output_type": "stream",
     "text": [
      "* Running on local URL:  http://127.0.0.1:7871\n",
      "\n",
      "To create a public link, set `share=True` in `launch()`.\n"
     ]
    },
    {
     "data": {
      "text/html": [
       "<div><iframe src=\"http://127.0.0.1:7871/\" width=\"100%\" height=\"500\" allow=\"autoplay; camera; microphone; clipboard-read; clipboard-write;\" frameborder=\"0\" allowfullscreen></iframe></div>"
      ],
      "text/plain": [
       "<IPython.core.display.HTML object>"
      ]
     },
     "metadata": {},
     "output_type": "display_data"
    },
    {
     "data": {
      "text/plain": []
     },
     "execution_count": 83,
     "metadata": {},
     "output_type": "execute_result"
    }
   ],
   "source": [
    "def number_details(number):\n",
    "    details = {\n",
    "        \"original\": number,\n",
    "        \"squared\": number ** 2,\n",
    "        \"sqrt\": number ** 0.5,\n",
    "        \"is_even\": number % 2 == 0\n",
    "    }\n",
    "    return details\n",
    "\n",
    "iface = gr.Interface(fn=number_details, inputs=gr.Number(), outputs=gr.Json())\n",
    "iface.launch()\n"
   ]
  },
  {
   "cell_type": "code",
   "execution_count": 85,
   "id": "49cc157a-1e45-48d1-92b9-910d24883c8e",
   "metadata": {},
   "outputs": [
    {
     "name": "stdout",
     "output_type": "stream",
     "text": [
      "* Running on local URL:  http://127.0.0.1:7872\n",
      "\n",
      "To create a public link, set `share=True` in `launch()`.\n"
     ]
    },
    {
     "data": {
      "text/html": [
       "<div><iframe src=\"http://127.0.0.1:7872/\" width=\"100%\" height=\"500\" allow=\"autoplay; camera; microphone; clipboard-read; clipboard-write;\" frameborder=\"0\" allowfullscreen></iframe></div>"
      ],
      "text/plain": [
       "<IPython.core.display.HTML object>"
      ]
     },
     "metadata": {},
     "output_type": "display_data"
    },
    {
     "data": {
      "text/plain": []
     },
     "execution_count": 85,
     "metadata": {},
     "output_type": "execute_result"
    }
   ],
   "source": [
    "def classify_number(number):\n",
    "    if number > 0:\n",
    "        return \"Positive\"\n",
    "    elif number < 0:\n",
    "        return \"Negative\"\n",
    "    else:\n",
    "        return \"Zero\"\n",
    "\n",
    "iface = gr.Interface(fn=classify_number, inputs=gr.Number(), outputs=gr.Label())\n",
    "iface.launch()\n"
   ]
  },
  {
   "cell_type": "code",
   "execution_count": null,
   "id": "97546874-0075-4d81-9f96-044f9263b023",
   "metadata": {},
   "outputs": [],
   "source": []
  }
 ],
 "metadata": {
  "kernelspec": {
   "display_name": "Python [conda env:base] *",
   "language": "python",
   "name": "conda-base-py"
  },
  "language_info": {
   "codemirror_mode": {
    "name": "ipython",
    "version": 3
   },
   "file_extension": ".py",
   "mimetype": "text/x-python",
   "name": "python",
   "nbconvert_exporter": "python",
   "pygments_lexer": "ipython3",
   "version": "3.12.3"
  }
 },
 "nbformat": 4,
 "nbformat_minor": 5
}
