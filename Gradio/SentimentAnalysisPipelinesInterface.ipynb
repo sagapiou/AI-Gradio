{
 "cells": [
  {
   "cell_type": "code",
   "execution_count": 12,
   "id": "648c9061-7f61-4cb3-b9e7-ef41cd3877ab",
   "metadata": {},
   "outputs": [],
   "source": [
    "import gradio as gr"
   ]
  },
  {
   "cell_type": "code",
   "execution_count": 13,
   "id": "4e42c8d1-f503-4603-a154-52cf6765fd15",
   "metadata": {},
   "outputs": [
    {
     "name": "stderr",
     "output_type": "stream",
     "text": [
      "No model was supplied, defaulted to distilbert/distilbert-base-uncased-finetuned-sst-2-english and revision 714eb0f (https://huggingface.co/distilbert/distilbert-base-uncased-finetuned-sst-2-english).\n",
      "Using a pipeline without specifying a model name and revision in production is not recommended.\n",
      "Device set to use cpu\n"
     ]
    }
   ],
   "source": [
    "# will be using pipeline and make a manual interface and an automatic one with gr.Load() to create the interface automatically\n",
    "# Use a pipeline as a high-level helper\n",
    "# Will use the default sentiment analysis model from hugging faces \n",
    "\n",
    "from transformers import pipeline\n",
    "\n",
    "pipe = pipeline(\"sentiment-analysis\")"
   ]
  },
  {
   "cell_type": "code",
   "execution_count": 22,
   "id": "a0701d74-6729-4e4b-b555-9350d8312620",
   "metadata": {},
   "outputs": [],
   "source": [
    "def sentimentAnalysis(textToAnalyse):\n",
    "    result = pipe(textToAnalyse)\n",
    "    # will return the label and the actual result\n",
    "    return result[0]['label'], result[0]['score']"
   ]
  },
  {
   "cell_type": "code",
   "execution_count": 24,
   "id": "ff468734-1174-4e9a-978c-d743799c22a5",
   "metadata": {},
   "outputs": [
    {
     "name": "stdout",
     "output_type": "stream",
     "text": [
      "* Running on local URL:  http://127.0.0.1:7897\n",
      "\n",
      "To create a public link, set `share=True` in `launch()`.\n"
     ]
    },
    {
     "data": {
      "text/html": [
       "<div><iframe src=\"http://127.0.0.1:7897/\" width=\"100%\" height=\"500\" allow=\"autoplay; camera; microphone; clipboard-read; clipboard-write;\" frameborder=\"0\" allowfullscreen></iframe></div>"
      ],
      "text/plain": [
       "<IPython.core.display.HTML object>"
      ]
     },
     "metadata": {},
     "output_type": "display_data"
    },
    {
     "data": {
      "text/plain": []
     },
     "execution_count": 24,
     "metadata": {},
     "output_type": "execute_result"
    }
   ],
   "source": [
    "iface = gr.Interface(fn=sentimentAnalysis, \n",
    "                     inputs=gr.Textbox(lines=2, placeholder='Type the text you want to analyse the sentiment here'), \n",
    "                     outputs=[gr.Label('Analysis'), gr.Label('score')],\n",
    "                     title='Sentiment Analysis', \n",
    "                     )\n",
    "iface.launch()"
   ]
  },
  {
   "cell_type": "code",
   "execution_count": 30,
   "id": "67560767-6086-4e9b-b127-7a440080d336",
   "metadata": {},
   "outputs": [
    {
     "name": "stdout",
     "output_type": "stream",
     "text": [
      "Fetching model from: https://huggingface.co/distilbert/distilbert-base-uncased-finetuned-sst-2-english\n",
      "* Running on local URL:  http://127.0.0.1:7899\n",
      "\n",
      "To create a public link, set `share=True` in `launch()`.\n"
     ]
    },
    {
     "data": {
      "text/html": [
       "<div><iframe src=\"http://127.0.0.1:7899/\" width=\"100%\" height=\"500\" allow=\"autoplay; camera; microphone; clipboard-read; clipboard-write;\" frameborder=\"0\" allowfullscreen></iframe></div>"
      ],
      "text/plain": [
       "<IPython.core.display.HTML object>"
      ]
     },
     "metadata": {},
     "output_type": "display_data"
    },
    {
     "data": {
      "text/plain": []
     },
     "execution_count": 30,
     "metadata": {},
     "output_type": "execute_result"
    }
   ],
   "source": [
    "# auto\n",
    "# the sentiment analysis model being used here is : distilbert/distilbert-base-uncased-finetuned-sst-2-english\n",
    "demo = gr.load('distilbert/distilbert-base-uncased-finetuned-sst-2-english', src='models')\n",
    "demo.launch()"
   ]
  },
  {
   "cell_type": "code",
   "execution_count": null,
   "id": "194af69a-92c9-4766-9f5a-1d85cabca25e",
   "metadata": {},
   "outputs": [],
   "source": []
  }
 ],
 "metadata": {
  "kernelspec": {
   "display_name": "Python [conda env:base] *",
   "language": "python",
   "name": "conda-base-py"
  },
  "language_info": {
   "codemirror_mode": {
    "name": "ipython",
    "version": 3
   },
   "file_extension": ".py",
   "mimetype": "text/x-python",
   "name": "python",
   "nbconvert_exporter": "python",
   "pygments_lexer": "ipython3",
   "version": "3.12.3"
  }
 },
 "nbformat": 4,
 "nbformat_minor": 5
}
