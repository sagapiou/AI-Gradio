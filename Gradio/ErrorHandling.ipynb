{
 "cells": [
  {
   "cell_type": "code",
   "execution_count": 15,
   "id": "0b472f07-679e-43fb-93b6-5732a8e5ebc6",
   "metadata": {},
   "outputs": [],
   "source": [
    "import gradio as gr"
   ]
  },
  {
   "cell_type": "code",
   "execution_count": 17,
   "id": "3b1224a3-6ec0-4cf1-97c3-5bdbcfac7816",
   "metadata": {},
   "outputs": [],
   "source": [
    "def validateEven(num):\n",
    "    return num%2 == 0"
   ]
  },
  {
   "cell_type": "code",
   "execution_count": 35,
   "id": "7790a79e-04bb-4ee7-8bd4-f36f72d27bac",
   "metadata": {},
   "outputs": [],
   "source": [
    "def multiplyEven(x,y):\n",
    "    if not validateEven(x):\n",
    "        raise gr.Error('x is not even')\n",
    "    if not validateEven(y):\n",
    "        raise gr.Error('y is not even')\n",
    "    return x*y\n",
    "\n",
    "def multiplyEvenIfOdd(x,y):\n",
    "    if not validateEven(x):\n",
    "        gr.Warning('x is not even')\n",
    "    if not validateEven(y):\n",
    "        gr.Info('y is not even')\n",
    "    return x*y"
   ]
  },
  {
   "cell_type": "code",
   "execution_count": 37,
   "id": "236a6ea9-4ead-4add-9759-d7d11e48a83f",
   "metadata": {},
   "outputs": [
    {
     "name": "stdout",
     "output_type": "stream",
     "text": [
      "* Running on local URL:  http://127.0.0.1:7904\n",
      "\n",
      "To create a public link, set `share=True` in `launch()`.\n"
     ]
    },
    {
     "data": {
      "text/html": [
       "<div><iframe src=\"http://127.0.0.1:7904/\" width=\"100%\" height=\"500\" allow=\"autoplay; camera; microphone; clipboard-read; clipboard-write;\" frameborder=\"0\" allowfullscreen></iframe></div>"
      ],
      "text/plain": [
       "<IPython.core.display.HTML object>"
      ]
     },
     "metadata": {},
     "output_type": "display_data"
    },
    {
     "data": {
      "text/plain": []
     },
     "execution_count": 37,
     "metadata": {},
     "output_type": "execute_result"
    }
   ],
   "source": [
    "iface = gr.Interface(fn=multiplyEven,inputs=[gr.Number(),gr.Number()],outputs=gr.Number())\n",
    "iface.launch()"
   ]
  },
  {
   "cell_type": "code",
   "execution_count": 39,
   "id": "eca38c96-0604-4b92-919d-b1c0e5cda8e4",
   "metadata": {},
   "outputs": [
    {
     "name": "stdout",
     "output_type": "stream",
     "text": [
      "* Running on local URL:  http://127.0.0.1:7905\n",
      "\n",
      "To create a public link, set `share=True` in `launch()`.\n"
     ]
    },
    {
     "data": {
      "text/html": [
       "<div><iframe src=\"http://127.0.0.1:7905/\" width=\"100%\" height=\"500\" allow=\"autoplay; camera; microphone; clipboard-read; clipboard-write;\" frameborder=\"0\" allowfullscreen></iframe></div>"
      ],
      "text/plain": [
       "<IPython.core.display.HTML object>"
      ]
     },
     "metadata": {},
     "output_type": "display_data"
    },
    {
     "data": {
      "text/plain": []
     },
     "execution_count": 39,
     "metadata": {},
     "output_type": "execute_result"
    }
   ],
   "source": [
    "iface = gr.Interface(fn=multiplyEvenIfOdd,inputs=[gr.Number(),gr.Number()],outputs=gr.Number())\n",
    "iface.launch()"
   ]
  },
  {
   "cell_type": "code",
   "execution_count": null,
   "id": "e27347cb-3845-4a3c-b36d-d26acb23a3e6",
   "metadata": {},
   "outputs": [],
   "source": []
  }
 ],
 "metadata": {
  "kernelspec": {
   "display_name": "Python [conda env:base] *",
   "language": "python",
   "name": "conda-base-py"
  },
  "language_info": {
   "codemirror_mode": {
    "name": "ipython",
    "version": 3
   },
   "file_extension": ".py",
   "mimetype": "text/x-python",
   "name": "python",
   "nbconvert_exporter": "python",
   "pygments_lexer": "ipython3",
   "version": "3.12.3"
  }
 },
 "nbformat": 4,
 "nbformat_minor": 5
}
